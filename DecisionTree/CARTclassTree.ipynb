{
 "cells": [
  {
   "cell_type": "markdown",
   "metadata": {},
   "source": [
    "# CART best works for classfication data with continous features"
   ]
  },
  {
   "cell_type": "code",
   "execution_count": 79,
   "metadata": {},
   "outputs": [],
   "source": [
    "import numpy as np\n",
    "import pandas as pd\n",
    "import matplotlib.pyplot as plt\n",
    "import seaborn as sns"
   ]
  },
  {
   "cell_type": "code",
   "execution_count": 80,
   "metadata": {},
   "outputs": [],
   "source": [
    "from sklearn.datasets import make_classification\n",
    "x,y = make_classification(n_features=2,n_samples=200,random_state=2,n_classes=2,n_informative=2,n_redundant=0,n_repeated=0)\n",
    "from sklearn.model_selection import train_test_split\n",
    "x_train, x_test, y_train, y_test = train_test_split(x,y, test_size=0.4, random_state=2)"
   ]
  },
  {
   "cell_type": "code",
   "execution_count": 81,
   "metadata": {},
   "outputs": [],
   "source": [
    "def gini(y):\n",
    "        classes, counts = np.unique(y, return_counts=True)\n",
    "        probabilities = counts / len(y)\n",
    "        return 1 - np.sum(probabilities**2)\n",
    "def ginigain(S,y1,y2,y):\n",
    "    return S - np.sum([gini(y1)*(len(y1)/len(y)),gini(y2)*(len(y2)/len(y))])\n",
    "class TreeNode:\n",
    "    def __init__(self,val=None,left=None,right=None,fea=None,thres=None) -> None:\n",
    "        self.value = val\n",
    "        self.left = left\n",
    "        self.right = right\n",
    "        self.fea = fea\n",
    "        self.thres = thres\n",
    "class DTree:\n",
    "    def __init__(self,maxDepth):\n",
    "        self.root = None\n",
    "        self.max = maxDepth\n",
    "\n",
    "    def fit(self,x,y):\n",
    "        self.root = self._growTree(x,y,self.max,0)\n",
    "    def _growTree(self,x,y,max,depth):\n",
    "        if(len(y)==0):\n",
    "            return None\n",
    "        if(depth==max or len(set(y))==1):\n",
    "            unique,counts = np.unique(y,return_counts=True)\n",
    "            i = counts.argmax()\n",
    "            return TreeNode(unique[i])\n",
    "        if(gini(y)==0):\n",
    "            return TreeNode(y[0])\n",
    "        xo = x.T\n",
    "        x1 = [[(row_idx, val) for val in row] for row_idx, row in enumerate(xo)]\n",
    "        #2nd method to find info gain by splitting at each value instead of bins\n",
    "        #but bins are better because splitting at each value consumes lot of computational resource and can cause overfitting\n",
    "        #info = np.array(list(map(lambda z:\n",
    "            #np.array(list(map(lambda k:\n",
    "                #ginigain(S=gini(y),y1=y[x[:,k[0]]<=k[1]],y2=y[x[:,k[0]]>k[1]],y=y) \n",
    "                #,z))),x1)))\n",
    "        mids = np.array(list(map(lambda z:\n",
    "           (z[1:]+z[:-1])/2\n",
    "            ,xo)))\n",
    "        mid = [[(row_idx, val) for val in row] for row_idx, row in enumerate(mids)]\n",
    "        info = np.array(list(map(lambda z:\n",
    "             np.array(list(map(lambda k:\n",
    "                ginigain(S=gini(y),y1=y[x[:,k[0]]<=k[1]],y2=y[x[:,k[0]]>k[1]],y=y) \n",
    "                ,z)))\n",
    "            ,mid)))\n",
    "        fea = info.max(axis=1).argmax()\n",
    "        thresIndex = info.argmax(axis=1)[fea]\n",
    "        thres = mids[int(fea)][int(thresIndex)]\n",
    "        leftchild = self._growTree(x[x[:,fea]<=thres],y[x[:,fea]<=thres],max,depth+1)\n",
    "        rightchild = self._growTree(x[x[:,fea]>thres],y[x[:,fea]>thres],max,depth+1)\n",
    "        return TreeNode(None,leftchild,rightchild,fea,thres)\n",
    "        \n",
    "    def _leftchildValue(x,y,thres,fea):\n",
    "        x1 = np.where(x[fea]<thres,x)\n",
    "        y1 = y[np.all(x==x1,axis=1)]\n",
    "        return x1,y1\n",
    "    def _rightchildValue(x,y,thres,fea):\n",
    "        x2 = np.where(x[fea]<thres,x)\n",
    "        y2 = y[np.all(x==x2,axis=1)]\n",
    "        return x2,y2\n",
    "    def predict(self, X):\n",
    "        return np.array([self._traverse_tree(x, self.root) for x in X])\n",
    "    def _traverse_tree(self, x, node):\n",
    "        if node.value is not None:\n",
    "            return node.value\n",
    "        if x[node.fea] <= node.thres:\n",
    "            return self._traverse_tree(x, node.left)\n",
    "        return self._traverse_tree(x, node.right)\n",
    "        "
   ]
  },
  {
   "cell_type": "code",
   "execution_count": 82,
   "metadata": {},
   "outputs": [],
   "source": [
    "dt = DTree(maxDepth=4)\n",
    "dt.fit(x_train,y_train)\n",
    "y_pred = dt.predict(x_test)"
   ]
  },
  {
   "cell_type": "code",
   "execution_count": 83,
   "metadata": {},
   "outputs": [
    {
     "name": "stdout",
     "output_type": "stream",
     "text": [
      "Accuracy: 93.75%\n",
      "Precision: 0.92\n",
      "Recall: 0.94\n",
      "F1 Score: 0.93\n",
      "Confusion Matrix:\n",
      "[[42  3]\n",
      " [ 2 33]]\n",
      "              precision    recall  f1-score   support\n",
      "\n",
      "           0       0.95      0.93      0.94        45\n",
      "           1       0.92      0.94      0.93        35\n",
      "\n",
      "    accuracy                           0.94        80\n",
      "   macro avg       0.94      0.94      0.94        80\n",
      "weighted avg       0.94      0.94      0.94        80\n",
      "\n"
     ]
    }
   ],
   "source": [
    "from sklearn.metrics import accuracy_score, precision_score, recall_score, f1_score, confusion_matrix, classification_report\n",
    "accuracy = accuracy_score(y_test, y_pred)\n",
    "print(f\"Accuracy: {accuracy * 100:.2f}%\")\n",
    "\n",
    "precision = precision_score(y_test, y_pred)\n",
    "recall = recall_score(y_test, y_pred)\n",
    "f1 = f1_score(y_test, y_pred)\n",
    "\n",
    "print(f\"Precision: {precision:.2f}\")\n",
    "print(f\"Recall: {recall:.2f}\")\n",
    "print(f\"F1 Score: {f1:.2f}\")\n",
    "\n",
    "cm = confusion_matrix(y_test, y_pred)\n",
    "print(f\"Confusion Matrix:\\n{cm}\")\n",
    "\n",
    "print(classification_report(y_test, y_pred))"
   ]
  },
  {
   "cell_type": "code",
   "execution_count": 84,
   "metadata": {},
   "outputs": [
    {
     "name": "stdout",
     "output_type": "stream",
     "text": [
      "Best max depth:  {'criterion': 'gini', 'max_depth': 4}\n",
      "Accuracy: 95.00%\n",
      "Precision: 0.92\n",
      "Recall: 0.97\n",
      "F1 Score: 0.94\n",
      "Confusion Matrix:\n",
      "[[42  3]\n",
      " [ 1 34]]\n",
      "              precision    recall  f1-score   support\n",
      "\n",
      "           0       0.98      0.93      0.95        45\n",
      "           1       0.92      0.97      0.94        35\n",
      "\n",
      "    accuracy                           0.95        80\n",
      "   macro avg       0.95      0.95      0.95        80\n",
      "weighted avg       0.95      0.95      0.95        80\n",
      "\n"
     ]
    }
   ],
   "source": [
    "from sklearn.tree import DecisionTreeClassifier\n",
    "from sklearn.metrics import accuracy_score\n",
    "from sklearn.model_selection import GridSearchCV\n",
    "clf = DecisionTreeClassifier( random_state=2)\n",
    "params = { \n",
    "'max_depth':[2,4,5,7,9,11,13],\n",
    "'criterion':['entropy','gini'],\n",
    "#'min_samples_split': [2, 5, 10, 20],\n",
    "#'min_samples_leaf': [1, 2, 4, 10],\n",
    "#'max_features': ['sqrt', 'log2', None],\n",
    "#'splitter': ['best', 'random'],\n",
    "#'max_leaf_nodes': [None, 10, 20, 30, 50],\n",
    "#'class_weight': [None, 'balanced']\n",
    "}\n",
    "clf = GridSearchCV(clf,cv=5,n_jobs=-1,param_grid=params)\n",
    "clf.fit(x_train, y_train)\n",
    "y_pred = clf.best_estimator_.predict(x_test)\n",
    "print(\"Best max depth: \",clf.best_params_)\n",
    "\n",
    "accuracy = accuracy_score(y_test, y_pred)\n",
    "print(f\"Accuracy: {accuracy * 100:.2f}%\")\n",
    "\n",
    "precision = precision_score(y_test, y_pred)\n",
    "recall = recall_score(y_test, y_pred)\n",
    "f1 = f1_score(y_test, y_pred)\n",
    "\n",
    "print(f\"Precision: {precision:.2f}\")\n",
    "print(f\"Recall: {recall:.2f}\")\n",
    "print(f\"F1 Score: {f1:.2f}\")\n",
    "\n",
    "cm = confusion_matrix(y_test, y_pred)\n",
    "print(f\"Confusion Matrix:\\n{cm}\")\n",
    "\n",
    "print(classification_report(y_test, y_pred))\n"
   ]
  }
 ],
 "metadata": {
  "kernelspec": {
   "display_name": "Python 3",
   "language": "python",
   "name": "python3"
  },
  "language_info": {
   "codemirror_mode": {
    "name": "ipython",
    "version": 3
   },
   "file_extension": ".py",
   "mimetype": "text/x-python",
   "name": "python",
   "nbconvert_exporter": "python",
   "pygments_lexer": "ipython3",
   "version": "3.12.3"
  }
 },
 "nbformat": 4,
 "nbformat_minor": 2
}
