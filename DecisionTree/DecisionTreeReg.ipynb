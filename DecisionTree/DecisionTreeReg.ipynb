{
 "cells": [
  {
   "cell_type": "code",
   "execution_count": 56,
   "metadata": {},
   "outputs": [],
   "source": [
    "import numpy as np\n",
    "import pandas as pd\n",
    "import matplotlib.pyplot as plt\n",
    "import seaborn as sns"
   ]
  },
  {
   "cell_type": "code",
   "execution_count": 57,
   "metadata": {},
   "outputs": [],
   "source": [
    "from sklearn.datasets import make_regression\n",
    "x,y = make_regression(n_features=2,n_samples=100,random_state=2, noise=5)\n",
    "from sklearn.model_selection import train_test_split\n",
    "x_train, x_test, y_train, y_test = train_test_split(x,y, test_size=0.2, random_state=2)"
   ]
  },
  {
   "cell_type": "code",
   "execution_count": 58,
   "metadata": {},
   "outputs": [],
   "source": [
    "def variance(y):\n",
    "        y_mean = y.mean()\n",
    "        return np.mean((y-y_mean)**2)\n",
    "def varRed(S,y1,y2,y):\n",
    "    return S - np.sum([variance(y1)*(len(y1)/len(y)),variance(y2)*(len(y2)/len(y))])\n",
    "class TreeNode:\n",
    "    def __init__(self,val=None,left=None,right=None,fea=None,thres=None) -> None:\n",
    "        self.value = val\n",
    "        self.left = left\n",
    "        self.right = right\n",
    "        self.fea = fea\n",
    "        self.thres = thres\n",
    "class DTree:\n",
    "    def __init__(self,maxDepth):\n",
    "        self.root = None\n",
    "        self.max = maxDepth\n",
    "\n",
    "    def fit(self,x,y):\n",
    "        self.root = self._growTree(x,y,self.max,0)\n",
    "    def _growTree(self,x,y,max,depth):\n",
    "        if(len(y)==0):\n",
    "            return None\n",
    "        if(depth==max or len(set(y))==1):\n",
    "            return TreeNode(np.mean(y))\n",
    "        if(variance(y)==0):\n",
    "            return TreeNode(np.mean(y))\n",
    "        xo = x.T\n",
    "        x1 = [[(row_idx, val) for val in row] for row_idx, row in enumerate(xo)]\n",
    "        #2nd method to find info gain by splitting at each value instead of bins\n",
    "        #but bins are better because splitting at each value consumes lot of computational resource and can cause overfitting\n",
    "        #info = np.array(list(map(lambda z:\n",
    "            #np.array(list(map(lambda k:\n",
    "                #varRed(S=variance(y),y1=y[x[:,k[0]]<=k[1]],y2=y[x[:,k[0]]>k[1]],y=y) \n",
    "                #,z))),x1)))\n",
    "        mids = np.array(list(map(lambda z:\n",
    "           (z[1:]+z[:-1])/2\n",
    "            ,xo)))\n",
    "        mid = [[(row_idx, val) for val in row] for row_idx, row in enumerate(mids)]\n",
    "        info = np.array(list(map(lambda z:\n",
    "             np.array(list(map(lambda k:\n",
    "                varRed(S=variance(y),y1=y[x[:,k[0]]<=k[1]],y2=y[x[:,k[0]]>k[1]],y=y) \n",
    "                ,z)))\n",
    "            ,mid)))\n",
    "        #print(info.max(axis=1))\n",
    "        fea = info.max(axis=1).argmax()\n",
    "        thresIndex = info.argmax(axis=1)[fea]\n",
    "        thres = mids[int(fea)][int(thresIndex)]\n",
    "        \n",
    "        leftchild = self._growTree(x[x[:,fea]<=thres],y[x[:,fea]<=thres],max,depth+1)\n",
    "        rightchild = self._growTree(x[x[:,fea]>thres],y[x[:,fea]>thres],max,depth+1)\n",
    "        return TreeNode(None,leftchild,rightchild,fea,thres)\n",
    "        \n",
    "    def _leftchildValue(x,y,thres,fea):\n",
    "        x1 = np.where(x[fea]<thres,x)\n",
    "        y1 = y[np.all(x==x1,axis=1)]\n",
    "        return x1,y1\n",
    "    def _rightchildValue(x,y,thres,fea):\n",
    "        x2 = np.where(x[fea]<thres,x)\n",
    "        y2 = y[np.all(x==x2,axis=1)]\n",
    "        return x2,y2\n",
    "    def predict(self, X):\n",
    "        return np.array([self._traverse_tree(x, self.root) for x in X])\n",
    "    def _traverse_tree(self, x, node):\n",
    "        if node.value is not None:\n",
    "            return node.value\n",
    "        if x[node.fea] <= node.thres:\n",
    "            return self._traverse_tree(x, node.left)\n",
    "        return self._traverse_tree(x, node.right)\n",
    "        "
   ]
  },
  {
   "cell_type": "code",
   "execution_count": 59,
   "metadata": {},
   "outputs": [],
   "source": [
    "dt = DTree(maxDepth=7)\n",
    "dt.fit(x_train,y_train)\n",
    "y_pred = dt.predict(x_test)"
   ]
  },
  {
   "cell_type": "code",
   "execution_count": 60,
   "metadata": {},
   "outputs": [
    {
     "name": "stdout",
     "output_type": "stream",
     "text": [
      "R2-Score:  0.7768602573103143\n",
      "MAPE:  99.37439262648137\n"
     ]
    }
   ],
   "source": [
    "from sklearn.metrics import r2_score, mean_absolute_percentage_error\n",
    "print(\"R2-Score: \",r2_score(y_pred,y_test))\n",
    "print(\"MAPE: \",100-mean_absolute_percentage_error(y_pred,y_test))"
   ]
  },
  {
   "cell_type": "code",
   "execution_count": 61,
   "metadata": {},
   "outputs": [
    {
     "name": "stdout",
     "output_type": "stream",
     "text": [
      "Best params:  {'max_depth': 7}\n",
      "R2-Score:  0.6730378805791968\n",
      "MAPE:  99.37726751746726\n"
     ]
    }
   ],
   "source": [
    "from sklearn.tree import DecisionTreeRegressor\n",
    "from sklearn.model_selection import GridSearchCV\n",
    "dtg = DecisionTreeRegressor(random_state=2)\n",
    "params = {\n",
    "    'max_depth':[2,3,5,7,9]\n",
    "}\n",
    "dtg = GridSearchCV(dtg, param_grid=params,cv=5, n_jobs=-1)\n",
    "dtg.fit(x_train,y_train)\n",
    "y_pred = dtg.best_estimator_.predict(x_test)\n",
    "print(\"Best params: \",dtg.best_params_)\n",
    "print(\"R2-Score: \",r2_score(y_pred,y_test))\n",
    "print(\"MAPE: \",100-mean_absolute_percentage_error(y_pred,y_test))"
   ]
  }
 ],
 "metadata": {
  "kernelspec": {
   "display_name": "Python 3",
   "language": "python",
   "name": "python3"
  },
  "language_info": {
   "codemirror_mode": {
    "name": "ipython",
    "version": 3
   },
   "file_extension": ".py",
   "mimetype": "text/x-python",
   "name": "python",
   "nbconvert_exporter": "python",
   "pygments_lexer": "ipython3",
   "version": "3.12.3"
  }
 },
 "nbformat": 4,
 "nbformat_minor": 2
}
