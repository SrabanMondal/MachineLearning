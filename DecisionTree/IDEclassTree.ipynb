{
 "cells": [
  {
   "cell_type": "markdown",
   "metadata": {},
   "source": [
    "# IDE Decision Tree handling continous input features"
   ]
  },
  {
   "cell_type": "code",
   "execution_count": 7,
   "metadata": {},
   "outputs": [],
   "source": [
    "import numpy as np\n",
    "import pandas as pd\n",
    "import matplotlib.pyplot as plt\n",
    "import seaborn as sns"
   ]
  },
  {
   "cell_type": "code",
   "execution_count": 8,
   "metadata": {},
   "outputs": [],
   "source": [
    "from sklearn.datasets import make_classification\n",
    "x,y = make_classification(n_features=3,n_samples=200,random_state=2,n_classes=2,n_informative=3,n_redundant=0,n_repeated=0)\n",
    "from sklearn.model_selection import train_test_split\n",
    "x_train, x_test, y_train, y_test = train_test_split(x,y, test_size=0.4, random_state=2)"
   ]
  },
  {
   "cell_type": "code",
   "execution_count": 9,
   "metadata": {},
   "outputs": [],
   "source": [
    "def entropy(y):\n",
    "        classes, counts = np.unique(y, return_counts=True)\n",
    "        probabilities = counts / len(y)\n",
    "        return -np.sum(probabilities * np.log2(probabilities))\n",
    "def infogain(S,y1,y2,y):\n",
    "    return S - np.sum([entropy(y1)*(len(y1)/len(y)),entropy(y2)*(len(y2)/len(y))])\n",
    "class TreeNode:\n",
    "    def __init__(self,val=None,left=None,right=None,fea=None,thres=None) -> None:\n",
    "        self.value = val\n",
    "        self.left = left\n",
    "        self.right = right\n",
    "        self.fea = fea\n",
    "        self.thres = thres\n",
    "class DTree:\n",
    "    def __init__(self,maxDepth):\n",
    "        self.root = None\n",
    "        self.max = maxDepth\n",
    "\n",
    "    def fit(self,x,y):\n",
    "        self.root = self._growTree(x,y,self.max,0)\n",
    "    def _growTree(self,x,y,max,depth):\n",
    "        if(len(y)==0):\n",
    "            return None\n",
    "        if(depth==max or len(set(y))==1):\n",
    "            unique,counts = np.unique(y,return_counts=True)\n",
    "            i = counts.argmax()\n",
    "            return TreeNode(unique[i])\n",
    "        if(entropy(y)==0):\n",
    "            return TreeNode(y[0])\n",
    "        xo = x.T\n",
    "        x1 = [[(row_idx, val) for val in row] for row_idx, row in enumerate(xo)]\n",
    "        #2nd method to find info gain by splitting at each value instead of bins\n",
    "        #but bins are better because splitting at each value consumes lot of computational resource and can cause overfitting\n",
    "        #info = np.array(list(map(lambda z:\n",
    "            #np.array(list(map(lambda k:\n",
    "                #infogain(S=entropy(y),y1=y[x[:,k[0]]<=k[1]],y2=y[x[:,k[0]]>k[1]],y=y) \n",
    "                #,z))),x1)))\n",
    "        binss = np.array(list(map(lambda z: np.histogram(z,bins=20)[1],xo)))\n",
    "        bins = [[(row_idx, val) for val in row] for row_idx, row in enumerate(binss)]\n",
    "        info = np.array(list(map(lambda z:\n",
    "             np.array(list(map(lambda k:\n",
    "                infogain(S=entropy(y),y1=y[x[:,k[0]]<=k[1]],y2=y[x[:,k[0]]>k[1]],y=y) \n",
    "                ,z)))\n",
    "            ,bins)))\n",
    "        fea = info.max(axis=1).argmax()\n",
    "        thresIndex = info.argmax(axis=1)[fea]\n",
    "        thres = binss[int(fea)][int(thresIndex)]\n",
    "        leftchild = self._growTree(x[x[:,fea]<=thres],y[x[:,fea]<=thres],max,depth+1)\n",
    "        rightchild = self._growTree(x[x[:,fea]>thres],y[x[:,fea]>thres],max,depth+1)\n",
    "        return TreeNode(None,leftchild,rightchild,fea,thres)\n",
    "        \n",
    "    def _leftchildValue(x,y,thres,fea):\n",
    "        x1 = np.where(x[fea]<thres,x)\n",
    "        y1 = y[np.all(x==x1,axis=1)]\n",
    "        return x1,y1\n",
    "    def _rightchildValue(x,y,thres,fea):\n",
    "        x2 = np.where(x[fea]<thres,x)\n",
    "        y2 = y[np.all(x==x2,axis=1)]\n",
    "        return x2,y2\n",
    "    def predict(self, X):\n",
    "        return np.array([self._traverse_tree(x, self.root) for x in X])\n",
    "    def _traverse_tree(self, x, node):\n",
    "        if node.value is not None:\n",
    "            return node.value\n",
    "        if x[node.fea] <= node.thres:\n",
    "            return self._traverse_tree(x, node.left)\n",
    "        return self._traverse_tree(x, node.right)\n",
    "        "
   ]
  },
  {
   "cell_type": "code",
   "execution_count": 10,
   "metadata": {},
   "outputs": [],
   "source": [
    "dt = DTree(maxDepth=6)\n",
    "dt.fit(x_train,y_train)\n",
    "y_pred = dt.predict(x_test)"
   ]
  },
  {
   "cell_type": "code",
   "execution_count": 11,
   "metadata": {},
   "outputs": [
    {
     "name": "stdout",
     "output_type": "stream",
     "text": [
      "Accuracy: 92.50%\n",
      "Precision: 0.90\n",
      "Recall: 0.95\n",
      "F1 Score: 0.93\n",
      "Confusion Matrix:\n",
      "[[37  4]\n",
      " [ 2 37]]\n",
      "              precision    recall  f1-score   support\n",
      "\n",
      "           0       0.95      0.90      0.93        41\n",
      "           1       0.90      0.95      0.93        39\n",
      "\n",
      "    accuracy                           0.93        80\n",
      "   macro avg       0.93      0.93      0.93        80\n",
      "weighted avg       0.93      0.93      0.93        80\n",
      "\n"
     ]
    }
   ],
   "source": [
    "from sklearn.metrics import accuracy_score, precision_score, recall_score, f1_score, confusion_matrix, classification_report\n",
    "accuracy = accuracy_score(y_test, y_pred)\n",
    "print(f\"Accuracy: {accuracy * 100:.2f}%\")\n",
    "\n",
    "precision = precision_score(y_test, y_pred)\n",
    "recall = recall_score(y_test, y_pred)\n",
    "f1 = f1_score(y_test, y_pred)\n",
    "\n",
    "print(f\"Precision: {precision:.2f}\")\n",
    "print(f\"Recall: {recall:.2f}\")\n",
    "print(f\"F1 Score: {f1:.2f}\")\n",
    "\n",
    "cm = confusion_matrix(y_test, y_pred)\n",
    "print(f\"Confusion Matrix:\\n{cm}\")\n",
    "\n",
    "print(classification_report(y_test, y_pred))"
   ]
  },
  {
   "cell_type": "code",
   "execution_count": 12,
   "metadata": {},
   "outputs": [
    {
     "name": "stdout",
     "output_type": "stream",
     "text": [
      "Best max depth:  {'criterion': 'gini', 'max_depth': 2}\n",
      "Accuracy: 87.50%\n",
      "Precision: 0.89\n",
      "Recall: 0.85\n",
      "F1 Score: 0.87\n",
      "Confusion Matrix:\n",
      "[[37  4]\n",
      " [ 6 33]]\n",
      "              precision    recall  f1-score   support\n",
      "\n",
      "           0       0.86      0.90      0.88        41\n",
      "           1       0.89      0.85      0.87        39\n",
      "\n",
      "    accuracy                           0.88        80\n",
      "   macro avg       0.88      0.87      0.87        80\n",
      "weighted avg       0.88      0.88      0.87        80\n",
      "\n"
     ]
    }
   ],
   "source": [
    "from sklearn.tree import DecisionTreeClassifier\n",
    "from sklearn.metrics import accuracy_score\n",
    "from sklearn.model_selection import GridSearchCV\n",
    "clf = DecisionTreeClassifier( random_state=2)\n",
    "params = { \n",
    "'max_depth':[2,4,5,7,9,11,13],\n",
    "'criterion':['entropy','gini'],\n",
    "#'min_samples_split': [2, 5, 10, 20],\n",
    "#'min_samples_leaf': [1, 2, 4, 10],\n",
    "#'max_features': ['sqrt', 'log2', None],\n",
    "#'splitter': ['best', 'random'],\n",
    "#'max_leaf_nodes': [None, 10, 20, 30, 50],\n",
    "#'class_weight': [None, 'balanced']\n",
    "}\n",
    "clf = GridSearchCV(clf,cv=5,n_jobs=-1,param_grid=params)\n",
    "clf.fit(x_train, y_train)\n",
    "y_pred = clf.best_estimator_.predict(x_test)\n",
    "print(\"Best max depth: \",clf.best_params_)\n",
    "\n",
    "accuracy = accuracy_score(y_test, y_pred)\n",
    "print(f\"Accuracy: {accuracy * 100:.2f}%\")\n",
    "\n",
    "precision = precision_score(y_test, y_pred)\n",
    "recall = recall_score(y_test, y_pred)\n",
    "f1 = f1_score(y_test, y_pred)\n",
    "\n",
    "print(f\"Precision: {precision:.2f}\")\n",
    "print(f\"Recall: {recall:.2f}\")\n",
    "print(f\"F1 Score: {f1:.2f}\")\n",
    "\n",
    "cm = confusion_matrix(y_test, y_pred)\n",
    "print(f\"Confusion Matrix:\\n{cm}\")\n",
    "\n",
    "print(classification_report(y_test, y_pred))"
   ]
  }
 ],
 "metadata": {
  "kernelspec": {
   "display_name": "Python 3",
   "language": "python",
   "name": "python3"
  },
  "language_info": {
   "codemirror_mode": {
    "name": "ipython",
    "version": 3
   },
   "file_extension": ".py",
   "mimetype": "text/x-python",
   "name": "python",
   "nbconvert_exporter": "python",
   "pygments_lexer": "ipython3",
   "version": "3.12.3"
  }
 },
 "nbformat": 4,
 "nbformat_minor": 2
}
