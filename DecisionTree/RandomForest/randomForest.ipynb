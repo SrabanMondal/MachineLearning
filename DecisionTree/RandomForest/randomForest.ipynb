{
 "cells": [
  {
   "cell_type": "code",
   "execution_count": 95,
   "metadata": {},
   "outputs": [],
   "source": [
    "import numpy as np\n",
    "import pandas as pd\n",
    "import matplotlib.pyplot as plt\n",
    "import seaborn as sns"
   ]
  },
  {
   "cell_type": "code",
   "execution_count": 96,
   "metadata": {},
   "outputs": [],
   "source": [
    "from sklearn.datasets import make_regression\n",
    "x,y = make_regression(n_features=2,n_samples=100,random_state=2, noise=5)\n",
    "from sklearn.model_selection import train_test_split\n",
    "x_train, x_test, y_train, y_test = train_test_split(x,y, test_size=0.2, random_state=2)"
   ]
  },
  {
   "cell_type": "code",
   "execution_count": 97,
   "metadata": {},
   "outputs": [],
   "source": [
    "def variance(y):\n",
    "        y_mean = y.mean()\n",
    "        return np.mean((y-y_mean)**2)\n",
    "def varRed(S,y1,y2,y):\n",
    "    return S - np.sum([variance(y1)*(len(y1)/len(y)),variance(y2)*(len(y2)/len(y))])\n",
    "class TreeNode:\n",
    "    def __init__(self,val=None,left=None,right=None,fea=None,thres=None) -> None:\n",
    "        self.value = val\n",
    "        self.left = left\n",
    "        self.right = right\n",
    "        self.fea = fea\n",
    "        self.thres = thres\n",
    "class DTree:\n",
    "    def __init__(self,maxDepth):\n",
    "        self.root = None\n",
    "        self.max = maxDepth\n",
    "\n",
    "    def fit(self,x,y):\n",
    "        self.root = self._growTree(x,y,self.max,0)\n",
    "    def _growTree(self,x,y,maxdp,depth):\n",
    "        if(len(y)==0):\n",
    "            return None\n",
    "        if(depth==maxdp or len(set(y))==1 or len(y)<5):\n",
    "            return TreeNode(np.mean(y))\n",
    "        if(variance(y)==0):\n",
    "            return TreeNode(np.mean(y))\n",
    "        xo = x.T\n",
    "        mids = np.array(list(map(lambda z:\n",
    "           (z[1:]+z[:-1])/2\n",
    "            ,xo)))\n",
    "        for row in mids:\n",
    "            row[row == np.max(row)] -= 1e-6\n",
    "            row[row == np.min(row)] +=1e-6\n",
    "        mid = [[(row_idx, val) for val in row] for row_idx, row in enumerate(mids)]\n",
    "        info = np.array(list(map(lambda z:\n",
    "             np.array(list(map(lambda k:\n",
    "                varRed(S=variance(y),y1=y[x[:,k[0]]<=k[1]],y2=y[x[:,k[0]]>k[1]],y=y) \n",
    "                ,z)))\n",
    "            ,mid)))\n",
    "        fea = info.max(axis=1).argmax()\n",
    "        thresIndex = info.argmax(axis=1)[fea]\n",
    "        thres = mids[int(fea)][int(thresIndex)]\n",
    "        if(thres==np.array(mids[int(fea)]).max()):\n",
    "            thres= thres -1e-6\n",
    "        if(thres==np.array(mids[int(fea)]).min()):\n",
    "            thres+=1e-6\n",
    "        leftchild = self._growTree(x[x[:,fea]<=thres],y[x[:,fea]<=thres],maxdp,depth+1)\n",
    "        rightchild = self._growTree(x[x[:,fea]>thres],y[x[:,fea]>thres],maxdp,depth+1)\n",
    "        return TreeNode(None,leftchild,rightchild,fea,thres)\n",
    "        \n",
    "    def _leftchildValue(x,y,thres,fea):\n",
    "        x1 = np.where(x[fea]<thres,x)\n",
    "        y1 = y[np.all(x==x1,axis=1)]\n",
    "        return x1,y1\n",
    "    def _rightchildValue(x,y,thres,fea):\n",
    "        x2 = np.where(x[fea]<thres,x)\n",
    "        y2 = y[np.all(x==x2,axis=1)]\n",
    "        return x2,y2\n",
    "    def predict(self, X):\n",
    "        return np.array([self._traverse_tree(x, self.root) for x in X])\n",
    "    def _traverse_tree(self, x, node):\n",
    "        if node.value is not None:\n",
    "            return node.value\n",
    "        if x[node.fea] <= node.thres:\n",
    "            return self._traverse_tree(x, node.left)\n",
    "        return self._traverse_tree(x, node.right)"
   ]
  },
  {
   "cell_type": "code",
   "execution_count": 98,
   "metadata": {},
   "outputs": [],
   "source": [
    "n_samples = len(x_train)\n",
    "r = np.random.choice(np.arange(n_samples),size=(1,n_samples))"
   ]
  },
  {
   "cell_type": "code",
   "execution_count": 99,
   "metadata": {},
   "outputs": [
    {
     "data": {
      "text/plain": [
       "0.6871917934659522"
      ]
     },
     "execution_count": 99,
     "metadata": {},
     "output_type": "execute_result"
    }
   ],
   "source": [
    "dt = DTree(2)\n",
    "dt.fit(x_train[r[0]],y_train[r[0]])\n",
    "y_pred = dt.predict(x_test)\n",
    "from sklearn.metrics import r2_score\n",
    "r2_score(y_pred,y_test)"
   ]
  },
  {
   "cell_type": "code",
   "execution_count": 100,
   "metadata": {},
   "outputs": [],
   "source": [
    "class RandomForest:\n",
    "    def __init__(self,n,maxdp):\n",
    "        self.n = n\n",
    "        self.maxdp = maxdp\n",
    "    def fit(self,x_train,y_train):\n",
    "        n_samples = len(x_train)\n",
    "        r = np.random.choice(np.arange(n_samples),size=(self.n,n_samples))\n",
    "        self.dt = []\n",
    "        for i in range(self.n):\n",
    "            Dtree = DTree(maxDepth=self.maxdp)\n",
    "            Dtree.fit(x_train[r[i]],y_train[r[i]])\n",
    "            self.dt.append(Dtree)\n",
    "    def predict(self,x_test):\n",
    "        self.y_pred = []\n",
    "        for i in range(self.n):\n",
    "            self.y_pred.append(self.dt[i].predict(x_test))\n",
    "        return np.array(self.y_pred).mean(axis=0)"
   ]
  },
  {
   "cell_type": "code",
   "execution_count": 109,
   "metadata": {},
   "outputs": [],
   "source": [
    "rf = RandomForest(n=20,maxdp=7)\n",
    "rf.fit(x_train,y_train)\n",
    "y_pred = rf.predict(x_test)"
   ]
  },
  {
   "cell_type": "code",
   "execution_count": 110,
   "metadata": {},
   "outputs": [
    {
     "name": "stdout",
     "output_type": "stream",
     "text": [
      "R2-Score:  0.8971386161598611\n",
      "MAPE:  99.65128624184769\n"
     ]
    }
   ],
   "source": [
    "from sklearn.metrics import r2_score, mean_absolute_percentage_error\n",
    "print(\"R2-Score: \",r2_score(y_pred,y_test))\n",
    "print(\"MAPE: \",100-mean_absolute_percentage_error(y_pred,y_test))"
   ]
  },
  {
   "cell_type": "code",
   "execution_count": 112,
   "metadata": {},
   "outputs": [
    {
     "name": "stdout",
     "output_type": "stream",
     "text": [
      "OOB score:  0.9217440351532646\n",
      "R^2 Score: 0.850422412188348\n",
      "Mean Squared Error: 99.6039658144269\n"
     ]
    }
   ],
   "source": [
    "from sklearn.ensemble import RandomForestRegressor\n",
    "rfg = RandomForestRegressor(n_estimators=20,max_depth=7,random_state=2,n_jobs=-1,oob_score=True)\n",
    "rfg.fit(x_train,y_train)\n",
    "y_pred = rf.predict(x_test)\n",
    "print(\"OOB score: \",rfg.oob_score_)\n",
    "print(f\"R2 Score: {r2_score(y_test, y_pred)}\")\n",
    "print(f\"Mean Squared Error: {100-mean_absolute_percentage_error(y_test, y_pred)}\")"
   ]
  },
  {
   "cell_type": "code",
   "execution_count": 117,
   "metadata": {},
   "outputs": [
    {
     "name": "stdout",
     "output_type": "stream",
     "text": [
      "Best params:  {'max_depth': 7, 'n_estimators': 20, 'oob_score': True}\n",
      "R^2 Score: 0.9060122501341771\n",
      "Mean Squared Error: 99.66539895027516\n",
      "OOB score:  0.9217440351532646\n"
     ]
    }
   ],
   "source": [
    "from sklearn.ensemble import RandomForestRegressor\n",
    "from sklearn.model_selection import GridSearchCV\n",
    "rfg = RandomForestRegressor(random_state=2,n_jobs=-1)\n",
    "params = {\n",
    "    'max_depth':[2,3,4,7,9,11],\n",
    "    'n_estimators':[5,10,15,20],\n",
    "    'oob_score':[True],\n",
    "}\n",
    "rfg = GridSearchCV(rfg,param_grid=params,n_jobs=-1)\n",
    "rfg.fit(x_train,y_train)\n",
    "y_pred = rfg.best_estimator_.predict(x_test)\n",
    "print(\"Best params: \",rfg.best_params_)\n",
    "print(f\"R2 Score: {r2_score(y_test, y_pred)}\")\n",
    "print(f\"Mean Squared Error: {100-mean_absolute_percentage_error(y_test, y_pred)}\")\n",
    "print(\"OOB score: \",rfg.best_estimator_.oob_score_)\n"
   ]
  }
 ],
 "metadata": {
  "kernelspec": {
   "display_name": "Python 3",
   "language": "python",
   "name": "python3"
  },
  "language_info": {
   "codemirror_mode": {
    "name": "ipython",
    "version": 3
   },
   "file_extension": ".py",
   "mimetype": "text/x-python",
   "name": "python",
   "nbconvert_exporter": "python",
   "pygments_lexer": "ipython3",
   "version": "3.12.3"
  }
 },
 "nbformat": 4,
 "nbformat_minor": 2
}
